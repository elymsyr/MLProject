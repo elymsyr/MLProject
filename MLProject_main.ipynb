{
  "nbformat": 4,
  "nbformat_minor": 0,
  "metadata": {
    "colab": {
      "provenance": [],
      "collapsed_sections": [
        "jydQTw71rlIl",
        "-Tssi5gl7fIh",
        "U0CAJK_t7pbw",
        "rGoYOliVTfxh",
        "Yw6O7m-UTnJp"
      ],
      "gpuType": "V100",
      "authorship_tag": "ABX9TyNQaa20GuCLH/ssEoSRYY5Z",
      "include_colab_link": true
    },
    "kernelspec": {
      "name": "python3",
      "display_name": "Python 3"
    },
    "language_info": {
      "name": "python"
    },
    "accelerator": "GPU"
  },
  "cells": [
    {
      "cell_type": "markdown",
      "metadata": {
        "id": "view-in-github",
        "colab_type": "text"
      },
      "source": [
        "<a href=\"https://colab.research.google.com/github/elymsyr/MLProject/blob/main/MLProject_main.ipynb\" target=\"_parent\"><img src=\"https://colab.research.google.com/assets/colab-badge.svg\" alt=\"Open In Colab\"/></a>"
      ]
    },
    {
      "cell_type": "markdown",
      "source": [
        "# Set Environment"
      ],
      "metadata": {
        "id": "rhZLlCW3iZBJ"
      }
    },
    {
      "cell_type": "code",
      "source": [
        "!rm -r /content/sample_data"
      ],
      "metadata": {
        "id": "JqHMB_sc6aT-"
      },
      "execution_count": null,
      "outputs": []
    },
    {
      "cell_type": "markdown",
      "source": [
        "## Cuda Downgrade"
      ],
      "metadata": {
        "id": "ylB_bZSvbOdz"
      }
    },
    {
      "cell_type": "code",
      "execution_count": null,
      "metadata": {
        "id": "oxHtkoGOHUV5"
      },
      "outputs": [],
      "source": [
        "!sudo apt-get purge \"cuda*\"\n",
        "!rm -rf /usr/local/cuda*\n",
        "!sudo apt-get autoremove\n",
        "!sudo apt-get autoclean"
      ]
    },
    {
      "cell_type": "code",
      "source": [
        "!nvcc --version"
      ],
      "metadata": {
        "id": "s9UMlY9ULU65"
      },
      "execution_count": null,
      "outputs": []
    },
    {
      "cell_type": "code",
      "source": [
        "!wget https://developer.download.nvidia.com/compute/cuda/repos/ubuntu2204/x86_64/cuda-ubuntu2204.pin\n",
        "!sudo mv cuda-ubuntu2204.pin /etc/apt/preferences.d/cuda-repository-pin-600\n",
        "!wget https://developer.download.nvidia.com/compute/cuda/11.8.0/local_installers/cuda-repo-ubuntu2204-11-8-local_11.8.0-520.61.05-1_amd64.deb\n",
        "!sudo dpkg -i cuda-repo-ubuntu2204-11-8-local_11.8.0-520.61.05-1_amd64.deb\n",
        "!sudo cp /var/cuda-repo-ubuntu2204-11-8-local/cuda-*-keyring.gpg /usr/share/keyrings/\n",
        "!sudo apt-get update\n",
        "!sudo apt-get -y install cuda-11.8"
      ],
      "metadata": {
        "id": "n3R-hJUAMzp9"
      },
      "execution_count": null,
      "outputs": []
    },
    {
      "cell_type": "code",
      "source": [
        "!echo 'export PATH=/usr/local/cuda-11.8/bin:$PATH' >> ~/.bashrc\n",
        "!echo 'export LD_LIBRARY_PATH=/usr/local/cuda-11.8/lib64:$LD_LIBRARY_PATH' >> ~/.bashrc"
      ],
      "metadata": {
        "id": "JAHb0AkvM3Ds"
      },
      "execution_count": null,
      "outputs": []
    },
    {
      "cell_type": "code",
      "source": [
        "# Download CUDA pin file\n",
        "!wget https://developer.download.nvidia.com/compute/cuda/repos/ubuntu2204/x86_64/cuda-ubuntu2204.pin\n",
        "!sudo mv cuda-ubuntu2204.pin /etc/apt/preferences.d/cuda-repository-pin-600\n",
        "\n",
        "# Fetch CUDA repository key\n",
        "!sudo apt-key adv --fetch-keys https://developer.download.nvidia.com/compute/cuda/repos/ubuntu2204/x86_64/7fa2af80.pub\n",
        "\n",
        "# Add CUDA repository\n",
        "!sudo add-apt-repository \"deb https://developer.download.nvidia.com/compute/cuda/repos/ubuntu2204/x86_64/ /\"\n",
        "\n",
        "# Update package list\n",
        "!sudo apt-get update\n",
        "\n",
        "# Install cuDNN library\n",
        "!sudo apt-get install libcudnn8=8.6.0.163-1+cuda11.8\n",
        "!sudo apt-get install libcudnn8-dev=8.6.0.163-1+cuda11.8"
      ],
      "metadata": {
        "id": "LTO0gyKJYL8V"
      },
      "execution_count": null,
      "outputs": []
    },
    {
      "cell_type": "code",
      "source": [
        "!cp -r /usr/src/cudnn_samples_v8/ $HOME\n",
        "! cd  $HOME/cudnn_samples_v8/mnistCUDNN\n",
        "!make clean && make\n",
        "! ./mnistCUDNN"
      ],
      "metadata": {
        "id": "YqvkFWehZWs7"
      },
      "execution_count": null,
      "outputs": []
    },
    {
      "cell_type": "code",
      "source": [
        "!nvcc --version"
      ],
      "metadata": {
        "id": "XUHpwc72aI51"
      },
      "execution_count": null,
      "outputs": []
    },
    {
      "cell_type": "markdown",
      "source": [
        "## Set Python Version and Packages"
      ],
      "metadata": {
        "id": "5iOfth00ibKf"
      }
    },
    {
      "cell_type": "code",
      "source": [
        "!python --version"
      ],
      "metadata": {
        "colab": {
          "base_uri": "https://localhost:8080/"
        },
        "id": "g-KnehGu6Czy",
        "outputId": "1a1f81e3-d528-4d13-cb60-6a600f0d8b39"
      },
      "execution_count": null,
      "outputs": [
        {
          "output_type": "stream",
          "name": "stdout",
          "text": [
            "Python 3.9.18\n"
          ]
        }
      ]
    },
    {
      "cell_type": "code",
      "source": [
        "!sudo apt-get update -y\n",
        "!sudo apt-get install python3.9\n",
        "\n",
        "#change alternatives\n",
        "!sudo update-alternatives --install /usr/bin/python3 python3 /usr/bin/python3.9 1\n",
        "\n",
        "#check python version\n",
        "!python --version\n",
        "\n",
        "# install pip for new python\n",
        "!sudo apt-get install python3.9-distutils\n",
        "!wget https://bootstrap.pypa.io/get-pip.py\n",
        "!python get-pip.py\n",
        "\n",
        "# install colab's dependencies\n",
        "!python -m pip install ipython tensorflow==2.13.0 tensorboard ipython_genutils ipykernel jupyter_console prompt_toolkit httplib2 astor\n",
        "\n",
        "# link to the old google package\n",
        "!ln -s /usr/local/lib/python3.9/dist-packages/google\n",
        "\n",
        "# Change between versions\n",
        "# !sudo update-alternatives --config python3 <RowNumber>\n",
        "\n",
        "!python --version"
      ],
      "metadata": {
        "id": "wzPbOvSDmOlb"
      },
      "execution_count": null,
      "outputs": []
    },
    {
      "cell_type": "code",
      "source": [
        "!python -m pip install --upgrade pip\n",
        "!pip install --upgrade setuptools pip wheel\n",
        "!pip install mlagents==0.30.0\n",
        "!pip install mlagents-envs==0.30.0"
      ],
      "metadata": {
        "id": "Ke_8hbCjhC8E"
      },
      "execution_count": null,
      "outputs": []
    },
    {
      "cell_type": "code",
      "source": [
        "!pip3 install torch torchvision torchaudio\n",
        "!pip install protobuf==3.20.3 numpy==1.21.2 onnx==1.15.0"
      ],
      "metadata": {
        "id": "38Y3m_gipliD"
      },
      "execution_count": null,
      "outputs": []
    },
    {
      "cell_type": "markdown",
      "source": [
        "## CUDA"
      ],
      "metadata": {
        "id": "xSFmvS2AWmTZ"
      }
    },
    {
      "cell_type": "code",
      "source": [
        "!pip install tensorrt\n",
        "!pip install nvidia-pyindex\n",
        "!pip install --upgrade nvidia-tensorrt"
      ],
      "metadata": {
        "id": "aLrC1yVnG3Hj"
      },
      "execution_count": null,
      "outputs": []
    },
    {
      "cell_type": "code",
      "source": [
        "!pip show tensorrt"
      ],
      "metadata": {
        "id": "siV2FI-RdxOb"
      },
      "execution_count": null,
      "outputs": []
    },
    {
      "cell_type": "code",
      "source": [
        "# !ln -s /usr/local/lib/python3.9/dist-packages/tensorrt_libs/libnvinfer.so.8 /usr/lib64-nvidia/libnvinfer.so.7\n",
        "# !ln -s /usr/local/lib/python3.9/dist-packages/tensorrt_libs/libnvinfer_plugin.so.8 /usr/lib64-nvidia/libnvinfer_plugin.so.7\n",
        "# !ln -s /usr/local/cuda-12.2/targets/x86_64-linux/lib/libcudart.so.12 /usr/lib64-nvidia/libcudart.so.11.0"
      ],
      "metadata": {
        "colab": {
          "base_uri": "https://localhost:8080/"
        },
        "id": "1vEdkOT0cqoU",
        "outputId": "be2463bf-d6bb-4703-8725-189c0006290f"
      },
      "execution_count": null,
      "outputs": [
        {
          "output_type": "stream",
          "name": "stdout",
          "text": [
            "ln: failed to create symbolic link '/usr/lib64-nvidia/libcudart.so.11.0': File exists\n"
          ]
        }
      ]
    },
    {
      "cell_type": "code",
      "source": [
        "# import tensorflow as tf\n",
        "# gpu_devices = tf.config.experimental.list_physical_devices('GPU')\n",
        "# for device in gpu_devices:\n",
        "#     tf.config.experimental.set_memory_growth(device, True)"
      ],
      "metadata": {
        "id": "lZ75KHZH6Mfk"
      },
      "execution_count": null,
      "outputs": []
    },
    {
      "cell_type": "code",
      "source": [
        "import tensorflow as tf\n",
        "print(tf.config.list_physical_devices('GPU'))"
      ],
      "metadata": {
        "id": "iuAc13Vc5rYs",
        "outputId": "076f954c-f004-4af3-a221-d5434b37951f",
        "colab": {
          "base_uri": "https://localhost:8080/"
        }
      },
      "execution_count": null,
      "outputs": [
        {
          "output_type": "stream",
          "name": "stdout",
          "text": [
            "[PhysicalDevice(name='/physical_device:GPU:0', device_type='GPU')]\n"
          ]
        }
      ]
    },
    {
      "cell_type": "code",
      "source": [
        "import torch\n",
        "\n",
        "# Old way (deprecated)\n",
        "# torch.set_default_tensor_type(torch.FloatTensor)\n",
        "\n",
        "# New way\n",
        "torch.set_default_dtype(torch.float32)\n",
        "torch.set_default_device('cuda' if torch.cuda.is_available() else 'cpu')"
      ],
      "metadata": {
        "id": "sH8bNeh_Agj_"
      },
      "execution_count": null,
      "outputs": []
    },
    {
      "cell_type": "code",
      "source": [
        "import torch\n",
        "# Check if GPU is available\n",
        "!nvcc --version\n",
        "!nvidia-smi\n",
        "if torch.cuda.is_available():\n",
        "    torch.set_default_device('cuda')\n",
        "    # Get the number of available GPUs\n",
        "    num_gpus = torch.cuda.device_count()\n",
        "    if num_gpus > 0:\n",
        "        print(f\"Number of available GPU devices: {num_gpus}\")\n",
        "        # Iterate over available GPUs and print their index and name\n",
        "        for gpu_index in range(num_gpus):\n",
        "            gpu_name = torch.cuda.get_device_name(gpu_index)\n",
        "            print(f\"GPU {gpu_index}: {gpu_name}\")\n",
        "    else:\n",
        "        print(\"No GPU devices available.\")\n",
        "else:\n",
        "    print(\"GPU is not available.\")"
      ],
      "metadata": {
        "id": "GnZuyr3ClOQL"
      },
      "execution_count": null,
      "outputs": []
    },
    {
      "cell_type": "markdown",
      "source": [
        "# Test MLAgents"
      ],
      "metadata": {
        "id": "jydQTw71rlIl"
      }
    },
    {
      "cell_type": "code",
      "source": [
        "!mlagents-learn -h"
      ],
      "metadata": {
        "id": "GW5cCfHAiRYW",
        "colab": {
          "base_uri": "https://localhost:8080/"
        },
        "outputId": "a1644e3e-5dce-47f8-a203-66da34291b57"
      },
      "execution_count": null,
      "outputs": [
        {
          "output_type": "stream",
          "name": "stdout",
          "text": [
            "/usr/local/lib/python3.9/dist-packages/torch/__init__.py:696: UserWarning: torch.set_default_tensor_type() is deprecated as of PyTorch 2.1, please use torch.set_default_dtype() and torch.set_default_device() as alternatives. (Triggered internally at ../torch/csrc/tensor/python_tensor.cpp:451.)\n",
            "  _C._set_default_tensor_type(t)\n",
            "usage: mlagents-learn [-h] [--env ENV_PATH] [--resume] [--deterministic] [--force]\n",
            "                      [--run-id RUN_ID] [--initialize-from RUN_ID] [--seed SEED] [--inference]\n",
            "                      [--base-port BASE_PORT] [--num-envs NUM_ENVS] [--num-areas NUM_AREAS]\n",
            "                      [--debug] [--env-args ...] [--max-lifetime-restarts MAX_LIFETIME_RESTARTS]\n",
            "                      [--restarts-rate-limit-n RESTARTS_RATE_LIMIT_N]\n",
            "                      [--restarts-rate-limit-period-s RESTARTS_RATE_LIMIT_PERIOD_S] [--torch]\n",
            "                      [--tensorflow] [--results-dir RESULTS_DIR] [--width WIDTH] [--height HEIGHT]\n",
            "                      [--quality-level QUALITY_LEVEL] [--time-scale TIME_SCALE]\n",
            "                      [--target-frame-rate TARGET_FRAME_RATE]\n",
            "                      [--capture-frame-rate CAPTURE_FRAME_RATE] [--no-graphics]\n",
            "                      [--torch-device DEVICE]\n",
            "                      [trainer_config_path]\n",
            "\n",
            "positional arguments:\n",
            "  trainer_config_path\n",
            "\n",
            "optional arguments:\n",
            "  -h, --help            show this help message and exit\n",
            "  --env ENV_PATH        Path to the Unity executable to train (default: None)\n",
            "  --resume              Whether to resume training from a checkpoint. Specify a --run-id to use\n",
            "                        this option. If set, the training code loads an already trained model to\n",
            "                        initialize the neural network before resuming training. This option is\n",
            "                        only valid when the models exist, and have the same behavior names as the\n",
            "                        current agents in your scene. (default: False)\n",
            "  --deterministic       Whether to select actions deterministically in policy. `dist.mean` for\n",
            "                        continuous action space, and `dist.argmax` for deterministic action space\n",
            "                        (default: False)\n",
            "  --force               Whether to force-overwrite this run-id's existing summary and model data.\n",
            "                        (Without this flag, attempting to train a model with a run-id that has\n",
            "                        been used before will throw an error. (default: False)\n",
            "  --run-id RUN_ID       The identifier for the training run. This identifier is used to name the\n",
            "                        subdirectories in which the trained model and summary statistics are saved\n",
            "                        as well as the saved model itself. If you use TensorBoard to view the\n",
            "                        training statistics, always set a unique run-id for each training run.\n",
            "                        (The statistics for all runs with the same id are combined as if they were\n",
            "                        produced by a the same session.) (default: ppo)\n",
            "  --initialize-from RUN_ID\n",
            "                        Specify a previously saved run ID from which to initialize the model from.\n",
            "                        This can be used, for instance, to fine-tune an existing model on a new\n",
            "                        environment. Note that the previously saved models must have the same\n",
            "                        behavior parameters as your current environment. (default: None)\n",
            "  --seed SEED           A number to use as a seed for the random number generator used by the\n",
            "                        training code (default: -1)\n",
            "  --inference           Whether to run in Python inference mode (i.e. no training). Use with\n",
            "                        --resume to load a model trained with an existing run ID. (default: False)\n",
            "  --base-port BASE_PORT\n",
            "                        The starting port for environment communication. Each concurrent Unity\n",
            "                        environment instance will get assigned a port sequentially, starting from\n",
            "                        the base-port. Each instance will use the port (base_port + worker_id),\n",
            "                        where the worker_id is sequential IDs given to each instance from 0 to\n",
            "                        (num_envs - 1). Note that when training using the Editor rather than an\n",
            "                        executable, the base port will be ignored. (default: 5005)\n",
            "  --num-envs NUM_ENVS   The number of concurrent Unity environment instances to collect\n",
            "                        experiences from when training (default: 1)\n",
            "  --num-areas NUM_AREAS\n",
            "                        The number of parallel training areas in each Unity environment instance.\n",
            "                        (default: 1)\n",
            "  --debug               Whether to enable debug-level logging for some parts of the code (default:\n",
            "                        False)\n",
            "  --env-args ...        Arguments passed to the Unity executable. Be aware that the standalone\n",
            "                        build will also process these as Unity Command Line Arguments. You should\n",
            "                        choose different argument names if you want to create environment-specific\n",
            "                        arguments. All arguments after this flag will be passed to the executable.\n",
            "                        (default: None)\n",
            "  --max-lifetime-restarts MAX_LIFETIME_RESTARTS\n",
            "                        The max number of times a single Unity executable can crash over its\n",
            "                        lifetime before ml-agents exits. Can be set to -1 if no limit is desired.\n",
            "                        (default: 10)\n",
            "  --restarts-rate-limit-n RESTARTS_RATE_LIMIT_N\n",
            "                        The maximum number of times a single Unity executable can crash over a\n",
            "                        period of time (period set in restarts-rate-limit-period-s). Can be set to\n",
            "                        -1 to not use rate limiting with restarts. (default: 1)\n",
            "  --restarts-rate-limit-period-s RESTARTS_RATE_LIMIT_PERIOD_S\n",
            "                        The period of time --restarts-rate-limit-n applies to. (default: 60)\n",
            "  --torch               (Removed) Use the PyTorch framework. (default: False)\n",
            "  --tensorflow          (Removed) Use the TensorFlow framework. (default: False)\n",
            "  --results-dir RESULTS_DIR\n",
            "                        Results base directory (default: results)\n",
            "\n",
            "Engine Configuration:\n",
            "  --width WIDTH         The width of the executable window of the environment(s) in pixels\n",
            "                        (ignored for editor training). (default: 84)\n",
            "  --height HEIGHT       The height of the executable window of the environment(s) in pixels\n",
            "                        (ignored for editor training) (default: 84)\n",
            "  --quality-level QUALITY_LEVEL\n",
            "                        The quality level of the environment(s). Equivalent to calling\n",
            "                        QualitySettings.SetQualityLevel in Unity. (default: 5)\n",
            "  --time-scale TIME_SCALE\n",
            "                        The time scale of the Unity environment(s). Equivalent to setting\n",
            "                        Time.timeScale in Unity. (default: 20)\n",
            "  --target-frame-rate TARGET_FRAME_RATE\n",
            "                        The target frame rate of the Unity environment(s). Equivalent to setting\n",
            "                        Application.targetFrameRate in Unity. (default: -1)\n",
            "  --capture-frame-rate CAPTURE_FRAME_RATE\n",
            "                        The capture frame rate of the Unity environment(s). Equivalent to setting\n",
            "                        Time.captureFramerate in Unity. (default: 60)\n",
            "  --no-graphics         Whether to run the Unity executable in no-graphics mode (i.e. without\n",
            "                        initializing the graphics driver. Use this only if your agents don't use\n",
            "                        visual observations. (default: False)\n",
            "\n",
            "Torch Configuration:\n",
            "  --torch-device DEVICE\n",
            "                        Settings for the default torch.device used in training, for example,\n",
            "                        \"cpu\", \"cuda\", or \"cuda:0\" (default: None)\n"
          ]
        }
      ]
    },
    {
      "cell_type": "markdown",
      "source": [
        "# Get Build"
      ],
      "metadata": {
        "id": "-Tssi5gl7fIh"
      }
    },
    {
      "cell_type": "code",
      "source": [
        "!git clone --branch main https://github.com/elymsyr/colabMLAgetns.git"
      ],
      "metadata": {
        "colab": {
          "base_uri": "https://localhost:8080/"
        },
        "id": "dEa2Kj4G6WZ-",
        "outputId": "733601d8-b579-49a0-f372-217c6c3e0d70"
      },
      "execution_count": null,
      "outputs": [
        {
          "output_type": "stream",
          "name": "stdout",
          "text": [
            "Cloning into 'colabMLAgetns'...\n",
            "remote: Enumerating objects: 194, done.\u001b[K\n",
            "remote: Counting objects: 100% (3/3), done.\u001b[K\n",
            "remote: Compressing objects: 100% (3/3), done.\u001b[K\n",
            "remote: Total 194 (delta 0), reused 0 (delta 0), pack-reused 191\u001b[K\n",
            "Receiving objects: 100% (194/194), 60.06 MiB | 24.29 MiB/s, done.\n",
            "Resolving deltas: 100% (58/58), done.\n",
            "Updating files: 100% (304/304), done.\n"
          ]
        }
      ]
    },
    {
      "cell_type": "code",
      "source": [
        "# Set the permissions\n",
        "!chmod -R 755 /content/colabMLAgetns/headless3/v033.x86_64\n",
        "!chmod -R 755 /content/colabMLAgetns/headless3/UnityPlayer.so\n",
        "!ls -l /content/colabMLAgetns/headless3"
      ],
      "metadata": {
        "colab": {
          "base_uri": "https://localhost:8080/"
        },
        "id": "53mAtnX76kw3",
        "outputId": "2df8cc5a-be52-4f47-94cc-2e21ae3b8f19"
      },
      "execution_count": null,
      "outputs": [
        {
          "output_type": "stream",
          "name": "stdout",
          "text": [
            "total 112816\n",
            "-rw-r--r-- 1 root root 67164248 Mar 12 23:22 UnityPlayer_s.debug\n",
            "-rwxr-xr-x 1 root root 48314296 Mar 12 23:22 UnityPlayer.so\n",
            "drwxr-xr-x 3 root root     4096 Mar 12 23:22 v033_BurstDebugInformation_DoNotShip\n",
            "drwxr-xr-x 6 root root     4096 Mar 12 23:22 v033_Data\n",
            "-rw-r--r-- 1 root root    16208 Mar 12 23:22 v033_s.debug\n",
            "-rwxr-xr-x 1 root root    15096 Mar 12 23:22 v033.x86_64\n"
          ]
        }
      ]
    },
    {
      "cell_type": "markdown",
      "source": [
        "## Create config.yaml"
      ],
      "metadata": {
        "id": "U0CAJK_t7pbw"
      }
    },
    {
      "cell_type": "code",
      "source": [
        "%%writefile config.yaml\n",
        "\n",
        "default_settings: null\n",
        "behaviors:\n",
        "  AgentBehavior:\n",
        "    trainer_type: ppo\n",
        "    hyperparameters:\n",
        "      batch_size: 1024\n",
        "      buffer_size: 10240\n",
        "      learning_rate: 0.0003\n",
        "      beta: 0.005\n",
        "      epsilon: 0.2\n",
        "      lambd: 0.95\n",
        "      num_epoch: 3\n",
        "      shared_critic: false\n",
        "      learning_rate_schedule: linear\n",
        "      beta_schedule: linear\n",
        "      epsilon_schedule: linear\n",
        "    network_settings:\n",
        "      normalize: false\n",
        "      hidden_units: 256\n",
        "      num_layers: 3\n",
        "      vis_encode_type: simple\n",
        "      memory: null\n",
        "      goal_conditioning_type: hyper\n",
        "      deterministic: false\n",
        "    reward_signals:\n",
        "      extrinsic:\n",
        "        gamma: 0.99\n",
        "        strength: 1.0\n",
        "        network_settings:\n",
        "          normalize: false\n",
        "          hidden_units: 256\n",
        "          num_layers: 3\n",
        "          vis_encode_type: simple\n",
        "          memory: null\n",
        "          goal_conditioning_type: hyper\n",
        "          deterministic: false\n",
        "    init_path: null\n",
        "    keep_checkpoints: 5\n",
        "    checkpoint_interval: 500000\n",
        "    max_steps: 10000000\n",
        "    time_horizon: 64\n",
        "    summary_freq: 10000\n",
        "    threaded: false\n",
        "    self_play: null\n",
        "    behavioral_cloning: null\n",
        "env_settings:\n",
        "  env_path: /content/colabMLAgetns/headless30/v034.x86_64\n",
        "  env_args: null\n",
        "  base_port: 5004\n",
        "  num_envs: 3\n",
        "  num_areas: 1\n",
        "  seed: -1\n",
        "  max_lifetime_restarts: 10\n",
        "  restarts_rate_limit_n: 1\n",
        "  restarts_rate_limit_period_s: 60\n",
        "engine_settings:\n",
        "  width: 84\n",
        "  height: 84\n",
        "  quality_level: 5\n",
        "  time_scale: 20.0\n",
        "  target_frame_rate: -1\n",
        "  capture_frame_rate: 60\n",
        "  no_graphics: true\n",
        "environment_parameters: null\n",
        "checkpoint_settings:\n",
        "  run_id: ColabTest\n",
        "  initialize_from:\n",
        "  load_model: false\n",
        "  resume: false\n",
        "  force: false\n",
        "  train_model: false\n",
        "  inference: false\n",
        "  results_dir: results\n",
        "torch_settings:\n",
        "  device: cuda\n",
        "debug: false"
      ],
      "metadata": {
        "colab": {
          "base_uri": "https://localhost:8080/"
        },
        "id": "XyVmeCgc6sUG",
        "outputId": "bad289b4-df35-4e72-a61a-12f551d313e1"
      },
      "execution_count": null,
      "outputs": [
        {
          "output_type": "stream",
          "name": "stdout",
          "text": [
            "Writing config.yaml\n"
          ]
        }
      ]
    },
    {
      "cell_type": "markdown",
      "source": [
        "# Tenserboard and Train Process"
      ],
      "metadata": {
        "id": "9IL5Pm_s-O2k"
      }
    },
    {
      "cell_type": "markdown",
      "source": [
        "## Tensorboard"
      ],
      "metadata": {
        "id": "rGoYOliVTfxh"
      }
    },
    {
      "cell_type": "code",
      "source": [
        "%load_ext tensorboard\n",
        "%tensorboard --logdir results\n",
        "%reload_ext tensorboard"
      ],
      "metadata": {
        "id": "WwITCL-w-RNF"
      },
      "execution_count": null,
      "outputs": []
    },
    {
      "cell_type": "markdown",
      "source": [
        "## Delete previous trains"
      ],
      "metadata": {
        "id": "Yw6O7m-UTnJp"
      }
    },
    {
      "cell_type": "code",
      "source": [
        "!rm -r /content/results # if necessary"
      ],
      "metadata": {
        "id": "u6VC2WGfRyR3"
      },
      "execution_count": null,
      "outputs": []
    },
    {
      "cell_type": "markdown",
      "source": [
        "## Train"
      ],
      "metadata": {
        "id": "Lj7Q4BsrTkkx"
      }
    },
    {
      "cell_type": "code",
      "source": [
        "!mlagents-learn /content/config.yaml --env /content/colabMLAgetns/headless3/v033.x86_64 --torch-device cuda --no-graphics"
      ],
      "metadata": {
        "colab": {
          "base_uri": "https://localhost:8080/"
        },
        "id": "5dZ7p5Pw7Yey",
        "outputId": "9896736d-957b-455e-e51e-61217a7bc535"
      },
      "execution_count": null,
      "outputs": [
        {
          "output_type": "stream",
          "name": "stdout",
          "text": [
            "/usr/local/lib/python3.9/dist-packages/torch/__init__.py:696: UserWarning: torch.set_default_tensor_type() is deprecated as of PyTorch 2.1, please use torch.set_default_dtype() and torch.set_default_device() as alternatives. (Triggered internally at ../torch/csrc/tensor/python_tensor.cpp:451.)\n",
            "  _C._set_default_tensor_type(t)\n",
            "\n",
            "            ┐  ╖\n",
            "        ╓╖╬│╡  ││╬╖╖\n",
            "    ╓╖╬│││││┘  ╬│││││╬╖\n",
            " ╖╬│││││╬╜        ╙╬│││││╖╖                               ╗╗╗\n",
            " ╬╬╬╬╖││╦╖        ╖╬││╗╣╣╣╬      ╟╣╣╬    ╟╣╣╣             ╜╜╜  ╟╣╣\n",
            " ╬╬╬╬╬╬╬╬╖│╬╖╖╓╬╪│╓╣╣╣╣╣╣╣╬      ╟╣╣╬    ╟╣╣╣ ╒╣╣╖╗╣╣╣╗   ╣╣╣ ╣╣╣╣╣╣ ╟╣╣╖   ╣╣╣\n",
            " ╬╬╬╬┐  ╙╬╬╬╬│╓╣╣╣╝╜  ╫╣╣╣╬      ╟╣╣╬    ╟╣╣╣ ╟╣╣╣╙ ╙╣╣╣  ╣╣╣ ╙╟╣╣╜╙  ╫╣╣  ╟╣╣\n",
            " ╬╬╬╬┐     ╙╬╬╣╣      ╫╣╣╣╬      ╟╣╣╬    ╟╣╣╣ ╟╣╣╬   ╣╣╣  ╣╣╣  ╟╣╣     ╣╣╣┌╣╣╜\n",
            " ╬╬╬╜       ╬╬╣╣      ╙╝╣╣╬      ╙╣╣╣╗╖╓╗╣╣╣╜ ╟╣╣╬   ╣╣╣  ╣╣╣  ╟╣╣╦╓    ╣╣╣╣╣\n",
            " ╙   ╓╦╖    ╬╬╣╣   ╓╗╗╖            ╙╝╣╣╣╣╝╜   ╘╝╝╜   ╝╝╝  ╝╝╝   ╙╣╣╣    ╟╣╣╣\n",
            "   ╩╬╬╬╬╬╬╦╦╬╬╣╣╗╣╣╣╣╣╣╣╝                                             ╫╣╣╣╣\n",
            "      ╙╬╬╬╬╬╬╬╣╣╣╣╣╣╝╜\n",
            "          ╙╬╬╬╣╣╣╜\n",
            "             ╙\n",
            "        \n",
            " Version information:\n",
            "  ml-agents: 0.30.0,\n",
            "  ml-agents-envs: 0.30.0,\n",
            "  Communicator API: 1.5.0,\n",
            "  PyTorch: 2.2.1+cu118\n",
            "[INFO] Connected to Unity environment with package version 2.0.1 and communication version 1.5.0\n",
            "[INFO] Connected to Unity environment with package version 2.0.1 and communication version 1.5.0\n",
            "[INFO] Connected to Unity environment with package version 2.0.1 and communication version 1.5.0\n",
            "[INFO] Connected new brain: AgentBehavior?team=0\n",
            "[INFO] Connected new brain: AgentBehavior?team=0\n",
            "[INFO] Connected new brain: AgentBehavior?team=0\n",
            "[INFO] Hyperparameters for behavior name AgentBehavior: \n",
            "\ttrainer_type:\tppo\n",
            "\thyperparameters:\t\n",
            "\t  batch_size:\t1024\n",
            "\t  buffer_size:\t10240\n",
            "\t  learning_rate:\t0.0003\n",
            "\t  beta:\t0.005\n",
            "\t  epsilon:\t0.2\n",
            "\t  lambd:\t0.95\n",
            "\t  num_epoch:\t3\n",
            "\t  shared_critic:\tFalse\n",
            "\t  learning_rate_schedule:\tlinear\n",
            "\t  beta_schedule:\tlinear\n",
            "\t  epsilon_schedule:\tlinear\n",
            "\tnetwork_settings:\t\n",
            "\t  normalize:\tFalse\n",
            "\t  hidden_units:\t256\n",
            "\t  num_layers:\t3\n",
            "\t  vis_encode_type:\tsimple\n",
            "\t  memory:\tNone\n",
            "\t  goal_conditioning_type:\thyper\n",
            "\t  deterministic:\tFalse\n",
            "\treward_signals:\t\n",
            "\t  extrinsic:\t\n",
            "\t    gamma:\t0.99\n",
            "\t    strength:\t1.0\n",
            "\t    network_settings:\t\n",
            "\t      normalize:\tFalse\n",
            "\t      hidden_units:\t256\n",
            "\t      num_layers:\t3\n",
            "\t      vis_encode_type:\tsimple\n",
            "\t      memory:\tNone\n",
            "\t      goal_conditioning_type:\thyper\n",
            "\t      deterministic:\tFalse\n",
            "\tinit_path:\tNone\n",
            "\tkeep_checkpoints:\t5\n",
            "\tcheckpoint_interval:\t500000\n",
            "\tmax_steps:\t10000000\n",
            "\ttime_horizon:\t64\n",
            "\tsummary_freq:\t10000\n",
            "\tthreaded:\tFalse\n",
            "\tself_play:\tNone\n",
            "\tbehavioral_cloning:\tNone\n",
            "[INFO] AgentBehavior. Step: 10000. Time Elapsed: 64.585 s. Mean Reward: -12.617. Std of Reward: 3.324. Training.\n",
            "[INFO] AgentBehavior. Step: 20000. Time Elapsed: 126.702 s. Mean Reward: -12.783. Std of Reward: 2.932. Training.\n",
            "[INFO] AgentBehavior. Step: 30000. Time Elapsed: 189.046 s. Mean Reward: -9.118. Std of Reward: 10.008. Training.\n",
            "[INFO] AgentBehavior. Step: 40000. Time Elapsed: 249.588 s. Mean Reward: -12.368. Std of Reward: 3.415. Training.\n",
            "[INFO] AgentBehavior. Step: 50000. Time Elapsed: 311.852 s. Mean Reward: -11.107. Std of Reward: 5.309. Training.\n",
            "[INFO] AgentBehavior. Step: 60000. Time Elapsed: 371.934 s. Mean Reward: -11.250. Std of Reward: 7.418. Training.\n",
            "[INFO] Learning was interrupted. Please wait while the graph is generated.\n",
            "[INFO] Exported results/ColabTest/AgentBehavior/AgentBehavior-60343.onnx\n",
            "[INFO] Copied results/ColabTest/AgentBehavior/AgentBehavior-60343.onnx to results/ColabTest/AgentBehavior.onnx.\n"
          ]
        }
      ]
    }
  ]
}