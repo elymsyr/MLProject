{
  "nbformat": 4,
  "nbformat_minor": 0,
  "metadata": {
    "colab": {
      "provenance": [],
      "authorship_tag": "ABX9TyN3NG8Z6OHtzC7my6UIcSwX",
      "include_colab_link": true
    },
    "kernelspec": {
      "name": "python3",
      "display_name": "Python 3"
    },
    "language_info": {
      "name": "python"
    }
  },
  "cells": [
    {
      "cell_type": "markdown",
      "metadata": {
        "id": "view-in-github",
        "colab_type": "text"
      },
      "source": [
        "<a href=\"https://colab.research.google.com/github/elymsyr/MLProject/blob/main/colabCudaV.ipynb\" target=\"_parent\"><img src=\"https://colab.research.google.com/assets/colab-badge.svg\" alt=\"Open In Colab\"/></a>"
      ]
    },
    {
      "cell_type": "code",
      "execution_count": null,
      "metadata": {
        "id": "oxHtkoGOHUV5"
      },
      "outputs": [],
      "source": [
        "!sudo apt-get purge \"cublas*\" \"cuda*\"\n",
        "!rm -rf /usr/local/cuda*\n",
        "!sudo apt-get autoremove\n",
        "!sudo apt-get autoclean"
      ]
    },
    {
      "cell_type": "code",
      "source": [
        "!nvcc --version"
      ],
      "metadata": {
        "id": "s9UMlY9ULU65"
      },
      "execution_count": null,
      "outputs": []
    },
    {
      "cell_type": "code",
      "source": [
        "!wget https://developer.download.nvidia.com/compute/cuda/repos/ubuntu2204/x86_64/cuda-ubuntu2204.pin\n",
        "!sudo mv cuda-ubuntu2204.pin /etc/apt/preferences.d/cuda-repository-pin-600\n",
        "!wget https://developer.download.nvidia.com/compute/cuda/11.8.0/local_installers/cuda-repo-ubuntu2204-11-8-local_11.8.0-520.61.05-1_amd64.deb\n",
        "!sudo dpkg -i cuda-repo-ubuntu2204-11-8-local_11.8.0-520.61.05-1_amd64.deb\n",
        "!sudo cp /var/cuda-repo-ubuntu2204-11-8-local/cuda-*-keyring.gpg /usr/share/keyrings/\n",
        "!sudo apt-get update\n",
        "!sudo apt-get -y install cuda-11.8"
      ],
      "metadata": {
        "id": "n3R-hJUAMzp9"
      },
      "execution_count": null,
      "outputs": []
    },
    {
      "cell_type": "code",
      "source": [
        "!echo 'export PATH=/usr/local/cuda-11.8/bin:$PATH' >> ~/.bashrc\n",
        "!echo 'export LD_LIBRARY_PATH=/usr/local/cuda-11.8/lib64:$LD_LIBRARY_PATH' >> ~/.bashrc"
      ],
      "metadata": {
        "id": "JAHb0AkvM3Ds"
      },
      "execution_count": 5,
      "outputs": []
    },
    {
      "cell_type": "code",
      "source": [
        "# Download CUDA pin file\n",
        "!wget https://developer.download.nvidia.com/compute/cuda/repos/ubuntu2204/x86_64/cuda-ubuntu2204.pin\n",
        "!sudo mv cuda-ubuntu2204.pin /etc/apt/preferences.d/cuda-repository-pin-600\n",
        "\n",
        "# Fetch CUDA repository key\n",
        "!sudo apt-key adv --fetch-keys https://developer.download.nvidia.com/compute/cuda/repos/ubuntu2204/x86_64/7fa2af80.pub\n",
        "\n",
        "# Add CUDA repository\n",
        "!sudo add-apt-repository \"deb https://developer.download.nvidia.com/compute/cuda/repos/ubuntu2204/x86_64/ /\"\n",
        "\n",
        "# Update package list\n",
        "!sudo apt-get update\n",
        "\n",
        "# Install cuDNN library\n",
        "!sudo apt-get install libcudnn8=8.6.0.163-1+cuda11.8\n",
        "!sudo apt-get install libcudnn8-dev=8.6.0.163-1+cuda11.8"
      ],
      "metadata": {
        "id": "LTO0gyKJYL8V"
      },
      "execution_count": null,
      "outputs": []
    },
    {
      "cell_type": "code",
      "source": [
        "!cp -r /usr/src/cudnn_samples_v8/ $HOME\n",
        "! cd  $HOME/cudnn_samples_v8/mnistCUDNN\n",
        "!make clean && make\n",
        "! ./mnistCUDNN"
      ],
      "metadata": {
        "id": "YqvkFWehZWs7"
      },
      "execution_count": null,
      "outputs": []
    },
    {
      "cell_type": "code",
      "source": [
        "!nvcc --version"
      ],
      "metadata": {
        "id": "XUHpwc72aI51"
      },
      "execution_count": null,
      "outputs": []
    }
  ]
}