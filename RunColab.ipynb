{
  "nbformat": 4,
  "nbformat_minor": 0,
  "metadata": {
    "colab": {
      "provenance": [],
      "authorship_tag": "ABX9TyNcU3sxqN+09ZQGQU0jvD4x",
      "include_colab_link": true
    },
    "kernelspec": {
      "name": "python3",
      "display_name": "Python 3"
    },
    "language_info": {
      "name": "python"
    }
  },
  "cells": [
    {
      "cell_type": "markdown",
      "metadata": {
        "id": "view-in-github",
        "colab_type": "text"
      },
      "source": [
        "<a href=\"https://colab.research.google.com/github/elymsyr/MLProject/blob/main/RunColab.ipynb\" target=\"_parent\"><img src=\"https://colab.research.google.com/assets/colab-badge.svg\" alt=\"Open In Colab\"/></a>"
      ]
    },
    {
      "cell_type": "markdown",
      "source": [
        "# Set Python Version and Packages"
      ],
      "metadata": {
        "id": "5iOfth00ibKf"
      }
    },
    {
      "cell_type": "code",
      "source": [
        "!rm -r /content/sample_data"
      ],
      "metadata": {
        "id": "JqHMB_sc6aT-"
      },
      "execution_count": null,
      "outputs": []
    },
    {
      "cell_type": "code",
      "source": [
        "!python --version"
      ],
      "metadata": {
        "colab": {
          "base_uri": "https://localhost:8080/"
        },
        "id": "g-KnehGu6Czy",
        "outputId": "ed2d03e2-896b-4736-a224-5ad03bdbfc10"
      },
      "execution_count": null,
      "outputs": [
        {
          "output_type": "stream",
          "name": "stdout",
          "text": [
            "Python 3.10.12\n"
          ]
        }
      ]
    },
    {
      "cell_type": "markdown",
      "source": [
        "Downgrade the python version to v3.9. Install necessary packages. You can find it on [github.com/elymsyr/MLProject](https://github.com/elymsyr/MLProject) (/Docs/requirements.txt)"
      ],
      "metadata": {
        "id": "Qf9eFFFWcwof"
      }
    },
    {
      "cell_type": "code",
      "source": [
        "!sudo apt-get update -y\n",
        "!sudo apt-get install python3.9\n",
        "\n",
        "#change alternatives\n",
        "!sudo update-alternatives --install /usr/bin/python3 python3 /usr/bin/python3.9 1\n",
        "\n",
        "#check python version\n",
        "!python --version\n",
        "\n",
        "# install pip for new python\n",
        "!sudo apt-get install python3.9-distutils\n",
        "!wget https://bootstrap.pypa.io/get-pip.py\n",
        "!python get-pip.py\n",
        "\n",
        "# install colab's dependencies\n",
        "!python -m pip install ipython tensorflow==2.13.0 tensorboard ipython_genutils ipykernel jupyter_console prompt_toolkit httplib2 astor\n",
        "\n",
        "# link to the old google package\n",
        "!ln -s /usr/local/lib/python3.9/dist-packages/google\n",
        "\n",
        "# Change between versions\n",
        "# !sudo update-alternatives --config python3 <RowNumber>\n",
        "\n",
        "!python --version"
      ],
      "metadata": {
        "id": "wzPbOvSDmOlb"
      },
      "execution_count": null,
      "outputs": []
    },
    {
      "cell_type": "code",
      "source": [
        "!python -m pip install --upgrade pip\n",
        "!pip install --upgrade setuptools pip wheel\n",
        "!pip install mlagents==0.30.0\n",
        "!pip install mlagents-envs==0.30.0"
      ],
      "metadata": {
        "id": "Ke_8hbCjhC8E"
      },
      "execution_count": null,
      "outputs": []
    },
    {
      "cell_type": "code",
      "source": [
        "!pip3 install torch torchvision torchaudio --index-url https://download.pytorch.org/whl/cu118"
      ],
      "metadata": {
        "id": "38Y3m_gipliD"
      },
      "execution_count": null,
      "outputs": []
    },
    {
      "cell_type": "code",
      "source": [
        "# !pip3 install torch torchvision torchaudio"
      ],
      "metadata": {
        "id": "1x1v4fG77535"
      },
      "execution_count": null,
      "outputs": []
    },
    {
      "cell_type": "code",
      "source": [
        "!pip install nvidia-pyindex\n",
        "# !pip install --upgrade nvidia-tensorrt"
      ],
      "metadata": {
        "id": "aLrC1yVnG3Hj"
      },
      "execution_count": null,
      "outputs": []
    },
    {
      "cell_type": "code",
      "source": [
        "!pip install protobuf==3.20.3 install numpy==1.23.5 onnx==1.15.0"
      ],
      "metadata": {
        "id": "bYDF5ZkU8I9g"
      },
      "execution_count": null,
      "outputs": []
    },
    {
      "cell_type": "markdown",
      "source": [
        "# Check Environment"
      ],
      "metadata": {
        "id": "xSFmvS2AWmTZ"
      }
    },
    {
      "cell_type": "markdown",
      "source": [
        "## Test Tensorflow-Pytorch GPU"
      ],
      "metadata": {
        "id": "IzJBP6GxdXJb"
      }
    },
    {
      "cell_type": "code",
      "source": [
        "import torch\n",
        "import tensorflow as tf\n",
        "print(tf.config.list_physical_devices('GPU'))\n",
        "# Check if GPU is available\n",
        "!nvcc --version\n",
        "!nvidia-smi\n",
        "if torch.cuda.is_available():\n",
        "    torch.set_default_device('cuda')\n",
        "    # Get the number of available GPUs\n",
        "    num_gpus = torch.cuda.device_count()\n",
        "    if num_gpus > 0:\n",
        "        print(f\"Number of available GPU devices: {num_gpus}\")\n",
        "        # Iterate over available GPUs and print their index and name\n",
        "        for gpu_index in range(num_gpus):\n",
        "            gpu_name = torch.cuda.get_device_name(gpu_index)\n",
        "            print(f\"GPU {gpu_index}: {gpu_name}\")\n",
        "    else:\n",
        "        print(\"No GPU devices available.\")\n",
        "else:\n",
        "    print(\"GPU is not available.\")"
      ],
      "metadata": {
        "id": "GnZuyr3ClOQL"
      },
      "execution_count": null,
      "outputs": []
    },
    {
      "cell_type": "markdown",
      "source": [
        "## Test MLAgents"
      ],
      "metadata": {
        "id": "jydQTw71rlIl"
      }
    },
    {
      "cell_type": "code",
      "source": [
        "!mlagents-learn -h"
      ],
      "metadata": {
        "id": "GW5cCfHAiRYW"
      },
      "execution_count": null,
      "outputs": []
    },
    {
      "cell_type": "markdown",
      "source": [
        "# Get Build"
      ],
      "metadata": {
        "id": "-Tssi5gl7fIh"
      }
    },
    {
      "cell_type": "code",
      "source": [
        "!git clone --branch main https://github.com/elymsyr/MLProject.git"
      ],
      "metadata": {
        "colab": {
          "base_uri": "https://localhost:8080/"
        },
        "id": "dEa2Kj4G6WZ-",
        "outputId": "f366bc12-f380-4024-fab6-724853a1a9c4"
      },
      "execution_count": 15,
      "outputs": [
        {
          "output_type": "stream",
          "name": "stdout",
          "text": [
            "Cloning into 'MLProject'...\n",
            "remote: Enumerating objects: 1191, done.\u001b[K\n",
            "remote: Counting objects: 100% (21/21), done.\u001b[K\n",
            "remote: Compressing objects: 100% (9/9), done.\u001b[K\n",
            "remote: Total 1191 (delta 15), reused 12 (delta 12), pack-reused 1170\u001b[K\n",
            "Receiving objects: 100% (1191/1191), 435.91 MiB | 26.96 MiB/s, done.\n",
            "Resolving deltas: 100% (632/632), done.\n",
            "Updating files: 100% (527/527), done.\n"
          ]
        }
      ]
    },
    {
      "cell_type": "code",
      "source": [
        "# Set the permissions\n",
        "env = 'b061'\n",
        "exe = 'b061'\n",
        "\n",
        "!chmod -R 755 /content/MLProject/Jupyter/{env}/{exe}.x86_64\n",
        "!chmod -R 755 /content/MLProject/Jupyter/{env}/UnityPlayer.so\n",
        "!ls -l /content/MLProject/Jupyter/{env}"
      ],
      "metadata": {
        "colab": {
          "base_uri": "https://localhost:8080/"
        },
        "id": "53mAtnX76kw3",
        "outputId": "1f025e8e-9edc-4121-9590-d13182077513"
      },
      "execution_count": 17,
      "outputs": [
        {
          "output_type": "stream",
          "name": "stdout",
          "text": [
            "total 112816\n",
            "drwxr-xr-x 3 root root     4096 Mar 16 13:10 b061_BurstDebugInformation_DoNotShip\n",
            "drwxr-xr-x 6 root root     4096 Mar 16 13:10 b061_Data\n",
            "-rw-r--r-- 1 root root    16208 Mar 16 13:10 b061_s.debug\n",
            "-rwxr-xr-x 1 root root    15096 Mar 16 13:10 b061.x86_64\n",
            "-rw-r--r-- 1 root root 67164248 Mar 16 13:10 UnityPlayer_s.debug\n",
            "-rwxr-xr-x 1 root root 48314296 Mar 16 13:10 UnityPlayer.so\n"
          ]
        }
      ]
    },
    {
      "cell_type": "markdown",
      "source": [
        "## Create config.yaml"
      ],
      "metadata": {
        "id": "U0CAJK_t7pbw"
      }
    },
    {
      "cell_type": "code",
      "source": [
        "num_envs = 10\n",
        "env = 'b061'\n",
        "exe = 'b061'\n",
        "env_path = f'/content/MLProject/Jupyter/{env}/{exe}.x86_64'\n",
        "hidden_units = 256\n",
        "num_layers = 3\n",
        "learning_rate = 0.0003\n",
        "beta = 0.005\n",
        "epsilon = 0.2\n",
        "lambd = 0.95\n",
        "num_epoch = 3\n",
        "\n",
        "from jinja2 import Template\n",
        "\n",
        "# Define the YAML template\n",
        "yaml_template = \"\"\"\n",
        "default_settings: null\n",
        "behaviors:\n",
        "  AgentBehavior:\n",
        "    trainer_type: ppo\n",
        "    hyperparameters:\n",
        "      batch_size: 1024\n",
        "      buffer_size: 10240\n",
        "      learning_rate: 0.0003\n",
        "      beta: {{ beta }}\n",
        "      epsilon: {{ epsilon }}\n",
        "      lambd: {{ lambd }}\n",
        "      num_epoch: {{ num_epoch }}\n",
        "      shared_critic: false\n",
        "      learning_rate_schedule: linear\n",
        "      beta_schedule: linear\n",
        "      epsilon_schedule: linear\n",
        "    network_settings:\n",
        "      normalize: false\n",
        "      hidden_units: {{ hidden_units }}\n",
        "      num_layers: {{ num_layers }}\n",
        "      vis_encode_type: simple\n",
        "      memory: null\n",
        "      goal_conditioning_type: hyper\n",
        "      deterministic: false\n",
        "    reward_signals:\n",
        "      extrinsic:\n",
        "        gamma: 0.99\n",
        "        strength: 1.0\n",
        "        network_settings:\n",
        "          normalize: false\n",
        "          hidden_units: {{ hidden_units }}\n",
        "          num_layers: {{ num_layers }}\n",
        "          vis_encode_type: simple\n",
        "          memory: null\n",
        "          goal_conditioning_type: hyper\n",
        "          deterministic: false\n",
        "    init_path: null\n",
        "    keep_checkpoints: 5\n",
        "    checkpoint_interval: 500000\n",
        "    max_steps: 10000000\n",
        "    time_horizon: 64\n",
        "    summary_freq: 10000\n",
        "    threaded: false\n",
        "    self_play: null\n",
        "    behavioral_cloning: null\n",
        "env_settings:\n",
        "  env_path: {{ env_path }}\n",
        "  env_args: null\n",
        "  base_port: 5004\n",
        "  num_envs: {{ num_envs }}\n",
        "  num_areas: 1\n",
        "  seed: -1\n",
        "  max_lifetime_restarts: 10\n",
        "  restarts_rate_limit_n: 1\n",
        "  restarts_rate_limit_period_s: 60\n",
        "engine_settings:\n",
        "  width: 84\n",
        "  height: 84\n",
        "  quality_level: 5\n",
        "  time_scale: 20.0\n",
        "  target_frame_rate: -1\n",
        "  capture_frame_rate: 60\n",
        "  no_graphics: true\n",
        "environment_parameters: null\n",
        "checkpoint_settings:\n",
        "  run_id: ColabTest\n",
        "  initialize_from:\n",
        "  load_model: false\n",
        "  resume: false\n",
        "  force: false\n",
        "  train_model: false\n",
        "  inference: false\n",
        "  results_dir: results\n",
        "torch_settings:\n",
        "  device: cuda\n",
        "debug: false\n",
        "\"\"\"\n",
        "\n",
        "# Render the YAML template with variables\n",
        "yaml_rendered = Template(yaml_template).render(\n",
        "    beta=beta,\n",
        "    epsilon=epsilon,\n",
        "    lambd=lambd,\n",
        "    num_epoch=num_epoch,\n",
        "    hidden_units=hidden_units,\n",
        "    num_layers=num_layers,\n",
        "    env_path=env_path,\n",
        "    num_envs=num_envs\n",
        ")\n",
        "\n",
        "# Write the rendered YAML to a file\n",
        "with open(f\"config.yaml\", \"w+\") as yaml_file:\n",
        "    yaml_file.write(yaml_rendered)"
      ],
      "metadata": {
        "id": "XyVmeCgc6sUG"
      },
      "execution_count": 22,
      "outputs": []
    },
    {
      "cell_type": "markdown",
      "source": [
        "# Tenserboard and Train Process"
      ],
      "metadata": {
        "id": "9IL5Pm_s-O2k"
      }
    },
    {
      "cell_type": "markdown",
      "source": [
        "## Tensorboard"
      ],
      "metadata": {
        "id": "rGoYOliVTfxh"
      }
    },
    {
      "cell_type": "code",
      "source": [
        "%load_ext tensorboard\n",
        "%tensorboard --logdir results\n",
        "%reload_ext tensorboard"
      ],
      "metadata": {
        "id": "WwITCL-w-RNF"
      },
      "execution_count": null,
      "outputs": []
    },
    {
      "cell_type": "markdown",
      "source": [
        "## Delete previous trains"
      ],
      "metadata": {
        "id": "Yw6O7m-UTnJp"
      }
    },
    {
      "cell_type": "code",
      "source": [
        "!rm -r /content/results # if necessary"
      ],
      "metadata": {
        "id": "u6VC2WGfRyR3"
      },
      "execution_count": null,
      "outputs": []
    },
    {
      "cell_type": "markdown",
      "source": [
        "## Train"
      ],
      "metadata": {
        "id": "Lj7Q4BsrTkkx"
      }
    },
    {
      "cell_type": "code",
      "source": [
        "!mlagents-learn /content/config.yaml --env /content/MLProject/Jupyter/b061/b061.x86_64 --resume"
      ],
      "metadata": {
        "id": "5dZ7p5Pw7Yey"
      },
      "execution_count": null,
      "outputs": []
    },
    {
      "cell_type": "markdown",
      "source": [
        "## Create and Download Zip Results"
      ],
      "metadata": {
        "id": "lyhnSSR_V7Vf"
      }
    },
    {
      "cell_type": "code",
      "source": [
        "!zip -r /content/files.zip /content/results\n",
        "\n",
        "from google.colab import files\n",
        "files.download('/content/files.zip')"
      ],
      "metadata": {
        "id": "7MtTYg2c95XR"
      },
      "execution_count": 2,
      "outputs": []
    }
  ]
}